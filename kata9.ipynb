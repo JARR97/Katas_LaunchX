{
 "cells": [
  {
   "cell_type": "markdown",
   "metadata": {},
   "source": [
    "# Ejercicio: Uso de funciones en Python"
   ]
  },
  {
   "cell_type": "code",
   "execution_count": 8,
   "metadata": {},
   "outputs": [],
   "source": [
    "# Función para leer 3 tanques de combustible y muestre el promedio\n",
    "\n",
    "def reporte(Tanque1, Tanque2, Tanque3):\n",
    "    total = (Tanque1 + Tanque2 + Tanque3) / 3\n",
    "    return f\"\"\"Reporte de combustible:\n",
    "    Total: {total}%\n",
    "    Tanque 1: {Tanque1}%\n",
    "    Tanque 2: {Tanque2}%\n",
    "    Tanque 3: {Tanque3}% \n",
    "    \"\"\""
   ]
  },
  {
   "cell_type": "code",
   "execution_count": 12,
   "metadata": {},
   "outputs": [
    {
     "name": "stdout",
     "output_type": "stream",
     "text": [
      "Reporte de combustible:\n",
      "    Total: 70.0%\n",
      "    Tanque 1: 90%\n",
      "    Tanque 2: 70%\n",
      "    Tanque 3: 50% \n",
      "    \n"
     ]
    }
   ],
   "source": [
    "# Llamamos a la función que genera el reporte print(funcion(tanque1, tanque2, tanque3))\n",
    "print(reporte(90, 70, 50))"
   ]
  },
  {
   "cell_type": "code",
   "execution_count": 17,
   "metadata": {},
   "outputs": [
    {
     "name": "stdout",
     "output_type": "stream",
     "text": [
      "246\n",
      "3\n"
     ]
    },
    {
     "data": {
      "text/plain": [
       "82.0"
      ]
     },
     "execution_count": 17,
     "metadata": {},
     "output_type": "execute_result"
    }
   ],
   "source": [
    "# Función promedio \n",
    "def promedio(valores):\n",
    "    totalF = sum(valores)\n",
    "    numero_Tanques = len(valores)\n",
    "    return totalF / numero_Tanques\n",
    "\n",
    "promedio([80, 85, 81]) "
   ]
  },
  {
   "cell_type": "code",
   "execution_count": 22,
   "metadata": {},
   "outputs": [
    {
     "name": "stdout",
     "output_type": "stream",
     "text": [
      "Reporte de combustible:\n",
      "    Total: 78.0%\n",
      "    Tanque 1: 88%\n",
      "    Tanque 2: 76%\n",
      "    Tanque 3: 70% \n",
      "    \n"
     ]
    }
   ],
   "source": [
    "# Actualiza la función\n",
    "def reporte(Tanque1, Tanque2, Tanque3):\n",
    "    return f\"\"\"Reporte de combustible:\n",
    "    Total: {average([Tanque1, Tanque2, Tanque3])}%\n",
    "    Tanque 1: {Tanque1}%\n",
    "    Tanque 2: {Tanque2}%\n",
    "    Tanque 3: {Tanque3}% \n",
    "    \"\"\"\n",
    "\n",
    "# Call the updated function again with different values\n",
    "print(reporte(88, 76, 70))\n",
    "\n"
   ]
  },
  {
   "cell_type": "markdown",
   "metadata": {},
   "source": [
    "# Ejercicio 2: Trabajo con argumentos de palabra clave"
   ]
  },
  {
   "cell_type": "code",
   "execution_count": 28,
   "metadata": {},
   "outputs": [
    {
     "name": "stdout",
     "output_type": "stream",
     "text": [
      "\n",
      "    Mision a Moon\n",
      "    tiempo de viaje: 65 minutos\n",
      "    Combustible restante: 500000 litros\n",
      "    \n",
      "\n",
      "    Mision a Moon\n",
      "    tiempo de viaje: 76 minutos\n",
      "    Combustible restante: 500000\n",
      "    \n",
      "\n",
      "    Mision a Moon\n",
      "    tiempo de viaje: 74 minutos\n",
      "    Combustible restante: 500000\n",
      "    principal tanque --> 300000 litros restantes\n",
      "externo tanque --> 200000 litros restantes\n",
      "\n"
     ]
    }
   ],
   "source": [
    "# Función con un informe preciso de la misión. Considera hora de prelanzamiento, tiempo de vuelo, destino, tanque externo y tanque interno\n",
    "\n",
    "def reporte(prelanzamiento, tiempo_vuelo, destino, tanque_interno, tanque_externo):\n",
    "    return f\"\"\"\n",
    "    Mision a {destino}\n",
    "    tiempo de viaje: {prelanzamiento + tiempo_vuelo} minutos\n",
    "    Combustible restante: {tanque_interno + tanque_externo} litros\n",
    "    \"\"\"\n",
    "\n",
    "print(reporte(14, 51, \"Moon\", 200000, 300000))\n",
    "\n",
    "# Escribe tu nueva función de reporte considerando lo anterior\n",
    "\n",
    "def reporte(destino, *minutos, **combustible):\n",
    "    return f\"\"\"\n",
    "    Mision a {destino}\n",
    "    tiempo de viaje: {sum(minutos)} minutos\n",
    "    Combustible restante: {sum(combustible.values())}\n",
    "    \"\"\"\n",
    "\n",
    "print(reporte(\"Moon\", 10, 15, 51, main=300000, external=200000))\n",
    "\n",
    "# Escribe tu nueva función\n",
    "\n",
    "def reporte(destino, *minutos, **combustible):\n",
    "    reporte1 = f\"\"\"\n",
    "    Mision a {destino}\n",
    "    tiempo de viaje: {sum(minutos)} minutos\n",
    "    Combustible restante: {sum(combustible.values())}\n",
    "    \"\"\"\n",
    "    for nombre_tanque, litros in combustible.items():\n",
    "        reporte1 += f\"{nombre_tanque} tanque --> {litros} litros restantes\\n\"\n",
    "    return reporte1\n",
    "\n",
    "print(reporte(\"Moon\", 8, 11, 55, principal=300000, externo=200000))\n",
    "\n"
   ]
  }
 ],
 "metadata": {
  "interpreter": {
   "hash": "8448df53d4ea1e4b84657384133094b92c209277b2391d37549abe6e107df836"
  },
  "kernelspec": {
   "display_name": "Python 3.10.2 64-bit (windows store)",
   "language": "python",
   "name": "python3"
  },
  "language_info": {
   "codemirror_mode": {
    "name": "ipython",
    "version": 3
   },
   "file_extension": ".py",
   "mimetype": "text/x-python",
   "name": "python",
   "nbconvert_exporter": "python",
   "pygments_lexer": "ipython3",
   "version": "3.10.2"
  },
  "orig_nbformat": 4
 },
 "nbformat": 4,
 "nbformat_minor": 2
}
