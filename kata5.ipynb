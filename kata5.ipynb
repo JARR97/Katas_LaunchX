{
 "cells": [
  {
   "cell_type": "markdown",
   "metadata": {},
   "source": [
    "# Ejercicio1 - Utilizar operadores aritméticos"
   ]
  },
  {
   "cell_type": "code",
   "execution_count": 8,
   "metadata": {},
   "outputs": [
    {
     "name": "stdout",
     "output_type": "stream",
     "text": [
      "La distancia en kilometros es: 628949330\n",
      "La distancia en millas es: 390577533.93\n"
     ]
    }
   ],
   "source": [
    "#distancia en km\n",
    "Tierra = 149597870\n",
    "Jupiter = 778547200\n",
    "\n",
    "#Cambio a millas (0.621)\n",
    "TierraM = Tierra * 0.621\n",
    "JupiterM = Jupiter * 0.621\n",
    "\n",
    "#Resta de distancia\n",
    "DistanciaM = JupiterM - TierraM\n",
    "Distancia = Jupiter - Tierra\n",
    "\n",
    "print('La distancia en kilometros es:', Distancia )\n",
    "print('La distancia en millas es:', DistanciaM )\n"
   ]
  },
  {
   "cell_type": "markdown",
   "metadata": {},
   "source": [
    "# Ejercicio 2: convierte cadenas en números y usa valores absolutos"
   ]
  },
  {
   "cell_type": "code",
   "execution_count": 1,
   "metadata": {},
   "outputs": [
    {
     "name": "stdout",
     "output_type": "stream",
     "text": [
      "La distancia entre ambos planetas es de  0 km\n",
      "La distancia entre ambos planetas es de  0.0 millas\n"
     ]
    }
   ],
   "source": [
    "#Solicitar distancia y catearlo a entero\n",
    "Distancia  = int(input(\"Ingrese la distabcia del planeta 1:\"))\n",
    "\n",
    "\n",
    "#restamos y con abs nos da el valor absoluto\n",
    "DistanciaFinal = abs(Distancia - Distancia2)\n",
    "\n",
    "#Imprimimos resultados en kilometros y millas\n",
    "print('La distancia entre ambos planetas es de ', DistanciaFinal, 'km')\n",
    "print('La distancia entre ambos planetas es de ', DistanciaFinal*0.621, 'millas')\n"
   ]
  }
 ],
 "metadata": {
  "interpreter": {
   "hash": "8448df53d4ea1e4b84657384133094b92c209277b2391d37549abe6e107df836"
  },
  "kernelspec": {
   "display_name": "Python 3.10.2 64-bit (windows store)",
   "language": "python",
   "name": "python3"
  },
  "language_info": {
   "codemirror_mode": {
    "name": "ipython",
    "version": 3
   },
   "file_extension": ".py",
   "mimetype": "text/x-python",
   "name": "python",
   "nbconvert_exporter": "python",
   "pygments_lexer": "ipython3",
   "version": "3.10.2"
  },
  "orig_nbformat": 4
 },
 "nbformat": 4,
 "nbformat_minor": 2
}
