{
 "cells": [
  {
   "cell_type": "markdown",
   "metadata": {},
   "source": [
    "# Ejercicio1: Crear y usar listas de Python"
   ]
  },
  {
   "cell_type": "code",
   "execution_count": 1,
   "metadata": {},
   "outputs": [
    {
     "name": "stdout",
     "output_type": "stream",
     "text": [
      "Hay 8 en el sistema solar\n",
      "Hay 9 en el sistema solar\n"
     ]
    }
   ],
   "source": [
    "planetas = ['Mercurio', 'Venus', 'Tierra', 'Marte', 'Júpiter', 'Saturno', 'Urano', 'Neptuno']\n",
    "\n",
    "print('Hay',len(planetas),'en el sistema solar')\n",
    "\n",
    "#agregamos a Plutón\n",
    "planetas.append('Plutón')\n",
    "\n",
    "print('Hay',len(planetas),'en el sistema solar')"
   ]
  },
  {
   "cell_type": "markdown",
   "metadata": {},
   "source": [
    "# Ejercicio 2: Trabajando con datos de una lista"
   ]
  },
  {
   "cell_type": "code",
   "execution_count": 10,
   "metadata": {},
   "outputs": [
    {
     "name": "stdout",
     "output_type": "stream",
     "text": [
      "Los planetas más cercanos al sol que el planetaUrano\n",
      "['Mercurio', 'Venus', 'Tierra', 'Marte', 'Júpiter', 'Saturno']\n",
      "los planetas más lejanos al sol que el planetaUrano\n",
      "['Neptuno']\n"
     ]
    }
   ],
   "source": [
    "# Lista de planetas\n",
    "planetas = ['Mercurio', 'Venus', 'Tierra', 'Marte', 'Júpiter', 'Saturno', 'Urano', 'Neptuno']\n",
    "\n",
    "planetaN = input('ingresa el nombre de una planeta (con la primer letra en mayuscula')\n",
    "\n",
    "#busqueda de planeta\n",
    "planetBusca = planetas.index(planetaN)\n",
    "\n",
    "# Muestra los planetas más cercanos al sol\n",
    "print('Los planetas más cercanos al sol que el planeta ' + planetaN)\n",
    "print(planetas[0:planetBusca])\n",
    "\n",
    "# Muestra los planetas más lejanos al sol\n",
    "print('los planetas más lejanos al sol que el planeta ' + planetaN)\n",
    "print(planetas[planetBusca + 1:])"
   ]
  }
 ],
 "metadata": {
  "interpreter": {
   "hash": "8448df53d4ea1e4b84657384133094b92c209277b2391d37549abe6e107df836"
  },
  "kernelspec": {
   "display_name": "Python 3.10.2 64-bit (windows store)",
   "language": "python",
   "name": "python3"
  },
  "language_info": {
   "codemirror_mode": {
    "name": "ipython",
    "version": 3
   },
   "file_extension": ".py",
   "mimetype": "text/x-python",
   "name": "python",
   "nbconvert_exporter": "python",
   "pygments_lexer": "ipython3",
   "version": "3.10.2"
  },
  "orig_nbformat": 4
 },
 "nbformat": 4,
 "nbformat_minor": 2
}
