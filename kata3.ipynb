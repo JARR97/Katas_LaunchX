{
 "cells": [
  {
   "cell_type": "markdown",
   "metadata": {},
   "source": [
    "# if, else, y elif"
   ]
  },
  {
   "cell_type": "code",
   "execution_count": 11,
   "metadata": {},
   "outputs": [
    {
     "name": "stdout",
     "output_type": "stream",
     "text": [
      "Advertencia, ¡Un asteroide se acerca a la velocidad de 49 km/s!\n"
     ]
    }
   ],
   "source": [
    "velocidad_asteroide = 49\n",
    "\n",
    "if velocidad_asteroide > 25:\n",
    "    print('Advertencia, ¡Un asteroide se acerca a la velocidad de',velocidad_asteroide,'km/s!')\n",
    "else:\n",
    "    print('El asteroide va a una velocidad de',velocidad_asteroide,'y no representa una amenaza')"
   ]
  },
  {
   "cell_type": "code",
   "execution_count": 12,
   "metadata": {},
   "outputs": [
    {
     "name": "stdout",
     "output_type": "stream",
     "text": [
      "El asteroide no podrá ser visto desde la tierra\n"
     ]
    }
   ],
   "source": [
    "velocidad_asteroide = 19\n",
    "if velocidad_asteroide == 20:\n",
    "    print('El asteroide podrá ser visto desde la tierra')\n",
    "elif velocidad_asteroide > 20:\n",
    "    print('El asteroide podrá ser visto desde la tierra')\n",
    "else:\n",
    "    print('El asteroide no podrá ser visto desde la tierra')"
   ]
  },
  {
   "cell_type": "markdown",
   "metadata": {},
   "source": [
    "# Uso de operadores and y or"
   ]
  },
  {
   "cell_type": "code",
   "execution_count": 15,
   "metadata": {},
   "outputs": [
    {
     "name": "stdout",
     "output_type": "stream",
     "text": [
      "El asteroide podrá ser visto desde la tierra\n"
     ]
    }
   ],
   "source": [
    "velocidad_asteroide = 20\n",
    "tamanio_asteroide = 27\n",
    "\n",
    "if velocidad_asteroide > 25 and tamanio_asteroide > 25:\n",
    "    print('!Alerta!\\n')\n",
    "    print('Un aseroide muy peligroso se acerca a la tierra')\n",
    "elif velocidad_asteroide >= 20:\n",
    "    print('El asteroide podrá ser visto desde la tierra')\n",
    "elif tamanio_asteroide > 25:\n",
    "    print('Un asteroide muy grande se acerca')\n",
    "else:\n",
    "     print('El asteroide no podrá ser visto desde la tierra')\n"
   ]
  }
 ],
 "metadata": {
  "interpreter": {
   "hash": "8448df53d4ea1e4b84657384133094b92c209277b2391d37549abe6e107df836"
  },
  "kernelspec": {
   "display_name": "Python 3.10.2 64-bit (windows store)",
   "language": "python",
   "name": "python3"
  },
  "language_info": {
   "codemirror_mode": {
    "name": "ipython",
    "version": 3
   },
   "file_extension": ".py",
   "mimetype": "text/x-python",
   "name": "python",
   "nbconvert_exporter": "python",
   "pygments_lexer": "ipython3",
   "version": "3.10.2"
  },
  "orig_nbformat": 4
 },
 "nbformat": 4,
 "nbformat_minor": 2
}
